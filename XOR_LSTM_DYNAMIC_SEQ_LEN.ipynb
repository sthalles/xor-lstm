{
 "cells": [
  {
   "cell_type": "markdown",
   "metadata": {},
   "source": [
    "## XOR LSTM\n",
    "\n",
    "Train an LSTM to solve the XOR problem: that is, given a sequence of bits, determine its parity. The LSTM should consume the sequence, one bit at a time, and then output the correct answer at the sequence’s end. Test the two approaches below:\n",
    "\n",
    "- Generate a dataset of random 100,000 binary strings of length 50. Train the LSTM; what performance do you get?\n",
    "\n",
    "- Generate a dataset of random 100,000 binary strings, where the length of each string is independently and randomly chosen between 1 and 50. Train the LSTM. Does it succeed? What explains the difference?"
   ]
  },
  {
   "cell_type": "code",
   "execution_count": 1,
   "metadata": {},
   "outputs": [],
   "source": [
    "import numpy as np\n",
    "import matplotlib.pyplot as plt\n",
    "from collections import Counter"
   ]
  },
  {
   "cell_type": "markdown",
   "metadata": {},
   "source": [
    "Notes:\n",
    "    \n",
    "- The RNN seems to work only with small sequence sizes. Less than 6\n",
    "- Even if I increase the number of epochs or change the lr, it does not fit\n",
    "\n",
    "- Sometimes, I run the same experiemnt, with the same seq length and the model alternates between fitting and not fitting"
   ]
  },
  {
   "cell_type": "code",
   "execution_count": 2,
   "metadata": {},
   "outputs": [],
   "source": [
    "# data = np.random.binomial(1, 0.5, (100000, 50, 1))\n",
    "# data.shape"
   ]
  },
  {
   "cell_type": "markdown",
   "metadata": {},
   "source": [
    "## Generating the dataset"
   ]
  },
  {
   "cell_type": "code",
   "execution_count": 3,
   "metadata": {},
   "outputs": [],
   "source": [
    "number_of_sequences = 100000\n",
    "max_sequence_length = 50"
   ]
  },
  {
   "cell_type": "markdown",
   "metadata": {},
   "source": [
    "For sequences of more than 2 bits, the XOR function should output TRUE when the number of TRUE values is odd (in the sequence)"
   ]
  },
  {
   "cell_type": "code",
   "execution_count": 4,
   "metadata": {},
   "outputs": [],
   "source": [
    "np.random.seed(888)\n",
    "\n",
    "bucketing_dataset = {}\n",
    "bucketing_labels = {}\n",
    "\n",
    "for i in range(number_of_sequences):\n",
    "    seq_len = np.random.choice(range(1,max_sequence_length+1))\n",
    "    record = np.random.choice(2, [seq_len]).astype(np.float32)\n",
    "    \n",
    "    label = np.count_nonzero(record)\n",
    "    \n",
    "    # calculate the pararity between pixels\n",
    "    if label % 2 == 0: # even\n",
    "        sequence_label = 0\n",
    "    else: # odd\n",
    "        # For sequences of more than 2 bits, the XOR function should output TRUE when\n",
    "        # the number of TRUE values is odd (in the sequence)\n",
    "        sequence_label = 1\n",
    "    \n",
    "    if len(record) not in bucketing_dataset:\n",
    "        bucketing_dataset[len(record)] = [record]\n",
    "        bucketing_labels[len(record)] = [sequence_label]\n",
    "    else:\n",
    "        bucketing_dataset[len(record)].append(record)\n",
    "        bucketing_labels[len(record)].append(sequence_label)"
   ]
  },
  {
   "cell_type": "code",
   "execution_count": 5,
   "metadata": {},
   "outputs": [
    {
     "name": "stdout",
     "output_type": "stream",
     "text": [
      "(10000,)\n",
      "(10000,)\n"
     ]
    }
   ],
   "source": [
    "np.random.seed(888)\n",
    "\n",
    "testing_data = []\n",
    "testing_labels = []\n",
    "\n",
    "for i in range(10000):\n",
    "    seq_len = np.random.choice(range(1,max_sequence_length+1))\n",
    "    record = np.random.choice(2, [seq_len]).astype(np.float32)\n",
    "    testing_data.append(record)\n",
    "    \n",
    "    label = np.count_nonzero(record)\n",
    "    if label % 2 == 0: # even\n",
    "        testing_labels.append(0)\n",
    "    else: # odd\n",
    "        # For sequences of more than 2 bits, the XOR function should output TRUE when\n",
    "        # the number of TRUE values is odd (in the sequence)\n",
    "        testing_labels.append(1)\n",
    "    \n",
    "testing_data = np.asarray(testing_data)\n",
    "testing_labels = np.asarray(testing_labels)\n",
    "\n",
    "print(testing_data.shape)\n",
    "print(testing_labels.shape)"
   ]
  },
  {
   "cell_type": "code",
   "execution_count": 6,
   "metadata": {},
   "outputs": [
    {
     "name": "stdout",
     "output_type": "stream",
     "text": [
      "Testing data shape: (10000,)\n",
      "Testing labels shape: (10000,)\n"
     ]
    }
   ],
   "source": [
    "print(\"Testing data shape:\", testing_data.shape)\n",
    "print(\"Testing labels shape:\", testing_labels.shape)"
   ]
  },
  {
   "cell_type": "code",
   "execution_count": 7,
   "metadata": {},
   "outputs": [],
   "source": [
    "# def bucketize_dataset(input_data, input_labels):\n",
    "#     bucketing_dataset = {} # {\"1\": [0],[1],[0],...], \"2\": [[1,1],[0,0],[0,1]...]]}\n",
    "#     bucketing_labels = {}\n",
    "#     for id_, record in enumerate(input_data):\n",
    "#         if len(record) not in bucketing_dataset:\n",
    "#             bucketing_dataset[len(record)] = [record]\n",
    "#             bucketing_labels[len(record)] = [input_labels[id_]]\n",
    "#         else:\n",
    "#             bucketing_dataset[len(record)].append(record)\n",
    "#             bucketing_labels[len(record)].append(input_labels[id_])\n",
    "#     return bucketing_dataset, bucketing_labels"
   ]
  },
  {
   "cell_type": "code",
   "execution_count": 8,
   "metadata": {},
   "outputs": [],
   "source": [
    "# X_train, y_train = bucketize_dataset(X_train, y_train)\n",
    "# X_test, y_test = bucketize_dataset(X_test, y_test)"
   ]
  },
  {
   "cell_type": "code",
   "execution_count": 9,
   "metadata": {},
   "outputs": [],
   "source": [
    "def next_batch(dataset, labels, batch_size=32, max_seq_len=50):\n",
    "    # generate a list of bucket ids, list: [0,1,2,3,4,5,...,50]\n",
    "    bucket_ids = list(range(1,max_seq_len+1))\n",
    "    np.random.shuffle(bucket_ids)\n",
    "    \n",
    "    for bucket_id in bucket_ids:\n",
    "        # get subset with with equal sequence length, e.g. get all sequences with 15 elements long\n",
    "        bucket_input = np.array(dataset[bucket_id])\n",
    "        bucket_labels = np.array(labels[bucket_id])\n",
    "        \n",
    "        # random batch [batch_size] elements from the sequences with equal length\n",
    "        batch_ids = np.random.choice(range(bucket_input.shape[0]),size=batch_size)\n",
    "        yield np.expand_dims(bucket_input[batch_ids],2), bucket_labels[batch_ids]"
   ]
  },
  {
   "cell_type": "code",
   "execution_count": 10,
   "metadata": {},
   "outputs": [],
   "source": [
    "# for batch, labels in next_batch(bucketing_dataset,bucketing_labels, batch_size=4, max_seq_len=max_sequence_length):\n",
    "#     #print(batch.shape)\n",
    "#     #print(len(batch))\n",
    "#     print(batch)\n",
    "#     print(labels)\n",
    "#     break"
   ]
  },
  {
   "cell_type": "code",
   "execution_count": 11,
   "metadata": {},
   "outputs": [],
   "source": [
    "counter = Counter(testing_labels)"
   ]
  },
  {
   "cell_type": "code",
   "execution_count": 12,
   "metadata": {},
   "outputs": [
    {
     "data": {
      "image/png": "[encoded data removed]",
      "text/plain": [
       "<Figure size 432x288 with 1 Axes>"
      ]
     },
     "metadata": {},
     "output_type": "display_data"
    }
   ],
   "source": [
    "plt.bar([0,1], [counter[0], counter[1]])\n",
    "plt.show()"
   ]
  },
  {
   "cell_type": "code",
   "execution_count": 13,
   "metadata": {},
   "outputs": [],
   "source": [
    "import tensorflow as tf"
   ]
  },
  {
   "cell_type": "code",
   "execution_count": 14,
   "metadata": {},
   "outputs": [],
   "source": [
    "batch_samples = tf.placeholder(shape=[None,None,1], dtype=tf.float32)\n",
    "batch_labels = tf.placeholder(shape=[None], dtype=tf.uint8)\n",
    "batch_size = tf.placeholder(shape=(), dtype=tf.int32)"
   ]
  },
  {
   "cell_type": "code",
   "execution_count": 15,
   "metadata": {},
   "outputs": [],
   "source": [
    "def RNN(input_data, num_layers=3):\n",
    "#     # create a BasicRNNCell\n",
    "#     rnn_cell = tf.nn.rnn_cell.BasicRNNCell(num_units=256)\n",
    "\n",
    "#     # defining initial state\n",
    "#     initial_state = rnn_cell.zero_state(batch_size, dtype=tf.float32)\n",
    "    \n",
    "    # create 2 LSTMCells\n",
    "    rnn_layers = [tf.nn.rnn_cell.LSTMCell(size) for size in [128, 256]]\n",
    "\n",
    "    # create a RNN cell composed sequentially of a number of RNNCells\n",
    "    multi_rnn_cell = tf.nn.rnn_cell.MultiRNNCell(rnn_layers)\n",
    "    \n",
    "    # 'outputs' is a tensor of shape [batch_size, max_time, cell_state_size]\n",
    "    # 'state' is a tensor of shape [batch_size, cell_state_size]\n",
    "    outputs, state = tf.nn.dynamic_rnn(multi_rnn_cell, input_data,\n",
    "                                       # initial_state=initial_state,\n",
    "                                       dtype=tf.float32)\n",
    "    \n",
    "    print(outputs)\n",
    "    out = tf.layers.flatten(state[-1][-1])\n",
    "    logits = tf.layers.dense(out, 2, activation=None)\n",
    "    \n",
    "    return logits"
   ]
  },
  {
   "cell_type": "code",
   "execution_count": 16,
   "metadata": {},
   "outputs": [],
   "source": [
    "logits = RNN(batch_samples)\n",
    "#logits = DNN(batch_samples)\n",
    "    \n",
    "predictions = tf.argmax(logits, axis=1)\n",
    "\n",
    "# accuracy\n",
    "correct_predictions = tf.equal(predictions, tf.cast(batch_labels, tf.int64))\n",
    "accuracy_op = tf.reduce_mean(tf.to_float(correct_predictions))\n",
    "\n",
    "log_loss = tf.nn.softmax_cross_entropy_with_logits_v2(labels=tf.one_hot(batch_labels, 2), logits=logits)\n",
    "cost = tf.reduce_mean(log_loss)"
   ]
  },
  {
   "cell_type": "code",
   "execution_count": 17,
   "metadata": {},
   "outputs": [],
   "source": [
    "optimizer = tf.train.AdamOptimizer(learning_rate=0.0006)\n",
    "\n",
    "model_vars = tf.trainable_variables()\n",
    "gradients = tf.gradients(cost, model_vars)\n",
    "#gradients, _ = tf.clip_by_global_norm(gradients, 5.) # gradient clipping\n",
    "\n",
    "minimize = optimizer.apply_gradients(zip(gradients, model_vars))"
   ]
  },
  {
   "cell_type": "code",
   "execution_count": null,
   "metadata": {},
   "outputs": [],
   "source": [
    "training_loss = []\n",
    "training_acc = []\n",
    "\n",
    "train_batch_size = 32\n",
    "test_batch_size = 1\n",
    "\n",
    "with tf.Session() as sess:\n",
    "    \n",
    "    sess.run(tf.global_variables_initializer())\n",
    "    \n",
    "    counter = 0\n",
    "    for i in range(1000):\n",
    "        counter += 1\n",
    "\n",
    "        for X_batch, y_batch in next_batch(bucketing_dataset, bucketing_labels, \n",
    "                                           batch_size=train_batch_size, \n",
    "                                           max_seq_len=max_sequence_length):\n",
    "\n",
    "            _, train_acc, train_loss = sess.run([minimize, accuracy_op, cost], \n",
    "                                                feed_dict={batch_samples: X_batch,\n",
    "                                                           batch_labels: y_batch,\n",
    "                                                           batch_size: len(X_batch)})\n",
    "            training_loss.append(train_loss)\n",
    "            training_acc.append(train_acc)\n",
    "\n",
    "    validation_acc = []\n",
    "    validation_loss = []\n",
    "\n",
    "    for X_batch, y_batch in zip(testing_data, testing_labels):\n",
    "        X_batch = np.reshape(X_batch, (1,len(X_batch),1))\n",
    "        y_batch = np.array([y_batch])\n",
    "\n",
    "        val_acc, val_cost = sess.run([accuracy_op, cost], feed_dict={batch_samples: X_batch,\n",
    "                                                                     batch_labels: y_batch,\n",
    "                                                                     batch_size: len(X_batch)})\n",
    "        validation_loss.append(val_cost)\n",
    "        validation_acc.append(val_acc)"
   ]
  },
  {
   "cell_type": "code",
   "execution_count": null,
   "metadata": {},
   "outputs": [],
   "source": [
    "plt.plot(training_loss)\n",
    "#plt.plot(validation_loss)"
   ]
  },
  {
   "cell_type": "code",
   "execution_count": null,
   "metadata": {},
   "outputs": [],
   "source": [
    "print(\"Train Mean acc:\", np.mean(training_acc))\n",
    "print(\"Test Mean acc:\", np.mean(validation_acc))\n",
    "\n",
    "plt.plot(training_acc)\n",
    "plt.show()"
   ]
  },
  {
   "cell_type": "code",
   "execution_count": null,
   "metadata": {},
   "outputs": [],
   "source": [
    "plt.plot(validation_acc)\n",
    "plt.show()"
   ]
  },
  {
   "cell_type": "code",
   "execution_count": null,
   "metadata": {},
   "outputs": [],
   "source": []
  }
 ],
 "metadata": {
  "kernelspec": {
   "display_name": "cv",
   "language": "python",
   "name": "cv"
  },
  "language_info": {
   "codemirror_mode": {
    "name": "ipython",
    "version": 3
   },
   "file_extension": ".py",
   "mimetype": "text/x-python",
   "name": "python",
   "nbconvert_exporter": "python",
   "pygments_lexer": "ipython3",
   "version": "3.6.5"
  }
 },
 "nbformat": 4,
 "nbformat_minor": 2
}
