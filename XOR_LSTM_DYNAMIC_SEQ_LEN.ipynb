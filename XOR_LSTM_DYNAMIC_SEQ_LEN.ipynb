{
  "nbformat": 4,
  "nbformat_minor": 0,
  "metadata": {
    "colab": {
      "name": "XOR_LSTM_DYNAMIC_SEQ_LEN.ipynb",
      "version": "0.3.2",
      "provenance": [],
      "include_colab_link": true
    },
    "kernelspec": {
      "name": "python3",
      "display_name": "Python 3"
    },
    "accelerator": "GPU"
  },
  "cells": [
    {
      "cell_type": "markdown",
      "metadata": {
        "id": "view-in-github",
        "colab_type": "text"
      },
      "source": [
        "[View in Colaboratory](https://colab.research.google.com/github/sthalles/xor-lstm/blob/master/XOR_LSTM_DYNAMIC_SEQ_LEN.ipynb)"
      ]
    },
    {
      "metadata": {
        "id": "J79oxlVUlMxW",
        "colab_type": "text"
      },
      "cell_type": "markdown",
      "source": [
        "## XOR LSTM\n",
        "### Exploring sequences with dynamic length\n",
        "\n",
        "Train an LSTM to solve the XOR problem: that is, given a sequence of bits, determine its parity. The LSTM should consume the sequence, one bit at a time, and then output the correct answer at the sequence’s end. Test the two approaches below:\n",
        "\n",
        "- Generate a dataset of random 100,000 binary strings of length 50. Train the LSTM; what performance do you get?\n",
        "\n",
        "- Generate a dataset of random 100,000 binary strings, where the length of each string is independently and randomly chosen between 1 and 50. Train the LSTM. Does it succeed? What explains the difference?"
      ]
    },
    {
      "metadata": {
        "id": "cBA7M7fVlMxX",
        "colab_type": "code",
        "colab": {
          "base_uri": "https://localhost:8080/",
          "height": 17
        },
        "outputId": "02aabad7-fe7a-4a52-be6c-c76d27a5610b"
      },
      "cell_type": "code",
      "source": [
        "import numpy as np\n",
        "import matplotlib.pyplot as plt\n",
        "from collections import Counter\n",
        "import tensorflow as tf"
      ],
      "execution_count": 1,
      "outputs": []
    },
    {
      "metadata": {
        "id": "7RcPv4JnlMxa",
        "colab_type": "text"
      },
      "cell_type": "markdown",
      "source": [
        "Notes:\n",
        "    \n",
        "- When using fixed sequence lengths (50 bits long), I noticed that the RNN could not capture the trend in the data through time. In essensse, the function that the RNN should learn is basically a counter function. If the number of ones in the sequence is odd, output 1, and output 0 otherwise. However, in the case of fixed sequences, when the length of the sequence exceeded 4, the RNN just could not do it. \n",
        "\n",
        "- I believe that because the sequences are created randomly, the number of possibilities when the sequence length becomes too long makes the RNN unable to capture the nuance. \n",
        "\n",
        "- For example, for 50 bits long sequences, we have 2^50 different combinations of sequences (where half has label 0 and the other half label 1). 2^50 = 1,125899907×10¹⁵. Creating 100,000 random sequences would not be sufficient to account for a reasonable dataset that represents the pattern. \n",
        "\n",
        "- When using different sequence lengths, the problem regarding the number of combinations decreases. For a perfectly uniformly distributed dataset, we would have around 2000 sequences for a given length. 2000 sequences of length 1, 2000 sequences of length 2 and so on. \n",
        "\n",
        "- In this situation, the pattern (which is the same regardless of the sequence length) becomes clearer to be identified. \n",
        "\n",
        "- Intuitively, it is much easier to spot the pattern in shorter sequences, than longer ones. \n"
      ]
    },
    {
      "metadata": {
        "id": "dSzWrrPWlMxb",
        "colab_type": "code",
        "colab": {
          "base_uri": "https://localhost:8080/",
          "height": 17
        },
        "outputId": "57a93fb6-7666-48a9-c790-b2226c9ddb15"
      },
      "cell_type": "code",
      "source": [
        "# data = np.random.binomial(1, 0.5, (100000, 50, 1))\n",
        "# data.shape"
      ],
      "execution_count": 2,
      "outputs": []
    },
    {
      "metadata": {
        "id": "ELXyqRjJlMxd",
        "colab_type": "text"
      },
      "cell_type": "markdown",
      "source": [
        "## Generating the dataset"
      ]
    },
    {
      "metadata": {
        "id": "DdOQJWW6lMxe",
        "colab_type": "code",
        "colab": {
          "base_uri": "https://localhost:8080/",
          "height": 17
        },
        "outputId": "0104cd86-dde2-4287-8edb-820c73f2b66b"
      },
      "cell_type": "code",
      "source": [
        "number_of_sequences = 100000\n",
        "max_sequence_length = 50"
      ],
      "execution_count": 3,
      "outputs": []
    },
    {
      "metadata": {
        "id": "qR0ALq2HlMxg",
        "colab_type": "text"
      },
      "cell_type": "markdown",
      "source": [
        "For sequences of more than 2 bits, the XOR function should output TRUE when the number of TRUE values is odd (in the sequence)"
      ]
    },
    {
      "metadata": {
        "id": "dGC45lxulMxg",
        "colab_type": "code",
        "colab": {
          "base_uri": "https://localhost:8080/",
          "height": 17
        },
        "outputId": "ccc11ecd-be31-46fe-e673-aef1d7372bcd"
      },
      "cell_type": "code",
      "source": [
        "np.random.seed(888)\n",
        "\n",
        "bucketing_dataset = {}\n",
        "bucketing_labels = {}\n",
        "\n",
        "for i in range(number_of_sequences):\n",
        "    # randomly decide the size of the sequence. It can be from 1 to 50\n",
        "    seq_len = np.random.choice(range(1,max_sequence_length+1))\n",
        "    \n",
        "    # generate a sequence of binary strings\n",
        "    record = np.random.choice(2, [seq_len]).astype(np.float32) # Example: [0. 1. 1. 0. 1. 0. 1.]\n",
        "\n",
        "    label = np.count_nonzero(record) \n",
        "    \n",
        "    # calculate the pararity between pixels\n",
        "    if label % 2 == 0: # if number of 1s is even\n",
        "        sequence_label = 0\n",
        "    else: # odd\n",
        "        # For sequences of more than 2 bits, the XOR function should output TRUE when\n",
        "        # the number of TRUE values is odd (in the sequence)\n",
        "        sequence_label = 1\n",
        "    \n",
        "    if len(record) not in bucketing_dataset:\n",
        "        bucketing_dataset[len(record)] = [record]\n",
        "        bucketing_labels[len(record)] = [sequence_label]\n",
        "    else:\n",
        "        bucketing_dataset[len(record)].append(record)\n",
        "        bucketing_labels[len(record)].append(sequence_label)"
      ],
      "execution_count": 4,
      "outputs": []
    },
    {
      "metadata": {
        "id": "OPthrRdplMxj",
        "colab_type": "code",
        "colab": {
          "base_uri": "https://localhost:8080/",
          "height": 54
        },
        "outputId": "44f1f32c-cfe7-4aa7-e04d-8627302de4b3"
      },
      "cell_type": "code",
      "source": [
        "# Create the Testing dataset\n",
        "np.random.seed(888)\n",
        "\n",
        "testing_data = []\n",
        "testing_labels = []\n",
        "\n",
        "for i in range(10000):\n",
        "    # randomly decide the size of the sequence. It can be from 1 to 50\n",
        "    seq_len = np.random.choice(range(1,max_sequence_length+1))\n",
        "    \n",
        "    # generate a sequence of binary strings\n",
        "    record = np.random.choice(2, [seq_len]).astype(np.float32) # Example: [0. 1. 1. 0. 1. 0. 1.]\n",
        "    testing_data.append(record)\n",
        "    \n",
        "    # Count the number of non_zeros (1s) in the sequence\n",
        "    label = np.count_nonzero(record)\n",
        "    if label % 2 == 0: # if number of 1s is even\n",
        "        testing_labels.append(0)\n",
        "    else: # odd\n",
        "        # For sequences of more than 2 bits, the XOR function should output TRUE when\n",
        "        # the number of TRUE values is odd (in the sequence)\n",
        "        testing_labels.append(1)\n",
        "    \n",
        "testing_data = np.asarray(testing_data)\n",
        "testing_labels = np.asarray(testing_labels)\n",
        "\n",
        "print(testing_data.shape)\n",
        "print(testing_labels.shape)"
      ],
      "execution_count": 5,
      "outputs": [
        {
          "output_type": "stream",
          "text": [
            "(10000,)\n",
            "(10000,)\n"
          ],
          "name": "stdout"
        }
      ]
    },
    {
      "metadata": {
        "id": "GgSKWtxllMxm",
        "colab_type": "code",
        "colab": {
          "base_uri": "https://localhost:8080/",
          "height": 54
        },
        "outputId": "d4b4b46e-8004-43d5-fff9-0345a6a46371"
      },
      "cell_type": "code",
      "source": [
        "print(\"Testing data shape:\", testing_data.shape)\n",
        "print(\"Testing labels shape:\", testing_labels.shape)"
      ],
      "execution_count": 6,
      "outputs": [
        {
          "output_type": "stream",
          "text": [
            "Testing data shape: (10000,)\n",
            "Testing labels shape: (10000,)\n"
          ],
          "name": "stdout"
        }
      ]
    },
    {
      "metadata": {
        "id": "u4qohavOlMxp",
        "colab_type": "code",
        "colab": {
          "base_uri": "https://localhost:8080/",
          "height": 17
        },
        "outputId": "f7547bb9-34c0-4ce5-893b-2998484af006"
      },
      "cell_type": "code",
      "source": [
        "# def bucketize_dataset(input_data, input_labels):\n",
        "#     bucketing_dataset = {} # {\"1\": [[0],[1],[0],...], \"2\": [[1,1],[0,0],[0,1]...]]}\n",
        "#     bucketing_labels = {}\n",
        "#     for id_, record in enumerate(input_data):\n",
        "#         if len(record) not in bucketing_dataset:\n",
        "#             bucketing_dataset[len(record)] = [record]\n",
        "#             bucketing_labels[len(record)] = [input_labels[id_]]\n",
        "#         else:\n",
        "#             bucketing_dataset[len(record)].append(record)\n",
        "#             bucketing_labels[len(record)].append(input_labels[id_])\n",
        "#     return bucketing_dataset, bucketing_labels"
      ],
      "execution_count": 7,
      "outputs": []
    },
    {
      "metadata": {
        "id": "yEwJlUjvlMxs",
        "colab_type": "code",
        "colab": {
          "base_uri": "https://localhost:8080/",
          "height": 17
        },
        "outputId": "0c4ba60c-cc62-4f44-c0d9-cfed1728a323"
      },
      "cell_type": "code",
      "source": [
        "# X_train, y_train = bucketize_dataset(X_train, y_train)\n",
        "# X_test, y_test = bucketize_dataset(X_test, y_test)"
      ],
      "execution_count": 8,
      "outputs": []
    },
    {
      "metadata": {
        "id": "LdIFMXEulMxu",
        "colab_type": "code",
        "colab": {
          "base_uri": "https://localhost:8080/",
          "height": 17
        },
        "outputId": "13116441-d2ef-4191-d80d-414514a743ca"
      },
      "cell_type": "code",
      "source": [
        "# output sequences of equal size\n",
        "def next_batch(dataset, labels, batch_size=32, max_seq_len=50):\n",
        "    # generate a list of bucket ids, list: [0,1,2,3,4,5,...,50]\n",
        "    bucket_ids = list(range(1,max_seq_len+1))\n",
        "    \n",
        "    # shuffle the list of buckets \n",
        "    np.random.shuffle(bucket_ids)\n",
        "    \n",
        "    for bucket_id in bucket_ids:\n",
        "        # get subset with with equal sequence length, e.g. get all sequences with 15 elements long\n",
        "        bucket_input = np.array(dataset[bucket_id])\n",
        "        bucket_labels = np.array(labels[bucket_id])\n",
        "        \n",
        "        # random batch [batch_size] elements from the sequences with equal length\n",
        "        batch_ids = np.random.choice(range(bucket_input.shape[0]),size=batch_size)\n",
        "        yield np.expand_dims(bucket_input[batch_ids],2), bucket_labels[batch_ids]\n",
        "        \n",
        "# batch_example = [[\n",
        "#   [1.]\n",
        "#   [1.]\n",
        "#   [1.]\n",
        "#   [1.]],\n",
        "#  [[1.]\n",
        "#   [1.]\n",
        "#   [0.]\n",
        "#   [0.]]]"
      ],
      "execution_count": 9,
      "outputs": []
    },
    {
      "metadata": {
        "id": "yjazIPBHlMxw",
        "colab_type": "code",
        "colab": {
          "base_uri": "https://localhost:8080/",
          "height": 17
        },
        "outputId": "915141cd-0ec4-4170-b80b-5424b8a9a0f5"
      },
      "cell_type": "code",
      "source": [
        "# Testing the batch function\n",
        "# for batch, labels in next_batch(bucketing_dataset,bucketing_labels, batch_size=4, max_seq_len=max_sequence_length):\n",
        "#     #print(batch.shape)\n",
        "#     #print(len(batch))\n",
        "#     print(batch)\n",
        "#     print(labels)\n",
        "#     break"
      ],
      "execution_count": 10,
      "outputs": []
    },
    {
      "metadata": {
        "id": "bW-LaAumlMxx",
        "colab_type": "code",
        "colab": {
          "base_uri": "https://localhost:8080/",
          "height": 17
        },
        "outputId": "a350e568-b904-4005-af31-97829f0c421e"
      },
      "cell_type": "code",
      "source": [
        "counter = Counter(testing_labels)"
      ],
      "execution_count": 11,
      "outputs": []
    },
    {
      "metadata": {
        "id": "CFtYj2P1lMx0",
        "colab_type": "code",
        "colab": {
          "base_uri": "https://localhost:8080/",
          "height": 347
        },
        "outputId": "a0097081-6547-4fbc-b7bb-764b2f727b8e"
      },
      "cell_type": "code",
      "source": [
        "plt.bar([0,1], [counter[0], counter[1]])\n",
        "plt.show()"
      ],
      "execution_count": 12,
      "outputs": [
        {
          "output_type": "display_data",
          "data": {
            "image/png": "[encoded data removed]",
            "text/plain": [
              "<matplotlib.figure.Figure at 0x7f4bf17a0c18>"
            ]
          },
          "metadata": {
            "tags": []
          }
        }
      ]
    },
    {
      "metadata": {
        "id": "CtAr4CwJlMx5",
        "colab_type": "code",
        "colab": {
          "base_uri": "https://localhost:8080/",
          "height": 17
        },
        "outputId": "30ff88b4-f5d6-4a43-a931-c89ebbdd0614"
      },
      "cell_type": "code",
      "source": [
        "batch_samples = tf.placeholder(shape=[None,None,1], dtype=tf.float32)\n",
        "batch_labels = tf.placeholder(shape=[None], dtype=tf.uint8)\n",
        "batch_size = tf.placeholder(shape=(), dtype=tf.int32)"
      ],
      "execution_count": 13,
      "outputs": []
    },
    {
      "metadata": {
        "id": "O58fM1wrlMx8",
        "colab_type": "code",
        "colab": {
          "base_uri": "https://localhost:8080/",
          "height": 17
        },
        "outputId": "1a84f25a-b129-43d7-9302-322c98413bd2"
      },
      "cell_type": "code",
      "source": [
        "def RNN(input_data, num_layers=3):\n",
        "#     # create a BasicRNNCell\n",
        "#     rnn_cell = tf.nn.rnn_cell.BasicRNNCell(num_units=256)\n",
        "\n",
        "#     # defining initial state\n",
        "#     initial_state = rnn_cell.zero_state(batch_size, dtype=tf.float32)\n",
        "    \n",
        "    # create 2 LSTMCells\n",
        "    rnn_layers = [tf.nn.rnn_cell.LSTMCell(size) for size in [128, 256]]\n",
        "\n",
        "    # create a RNN cell composed sequentially of a number of RNNCells\n",
        "    multi_rnn_cell = tf.nn.rnn_cell.MultiRNNCell(rnn_layers)\n",
        "    \n",
        "    # 'outputs' is a tensor of shape [batch_size, max_time, cell_state_size]\n",
        "    # 'state' is a tensor of shape [batch_size, cell_state_size]\n",
        "    outputs, state = tf.nn.dynamic_rnn(multi_rnn_cell, input_data,\n",
        "                                       # initial_state=initial_state,\n",
        "                                       dtype=tf.float32)\n",
        "    \n",
        "    print(outputs)\n",
        "    out = tf.layers.flatten(state[-1][-1])\n",
        "    logits = tf.layers.dense(out, 2, activation=None)\n",
        "    \n",
        "    return logits"
      ],
      "execution_count": 14,
      "outputs": []
    },
    {
      "metadata": {
        "id": "_Yw_b-R8lMx9",
        "colab_type": "code",
        "colab": {
          "base_uri": "https://localhost:8080/",
          "height": 35
        },
        "outputId": "6a8471e0-eb09-4dbe-b28f-a9078410a88b"
      },
      "cell_type": "code",
      "source": [
        "logits = RNN(batch_samples)\n",
        "    \n",
        "predictions = tf.argmax(logits, axis=1)\n",
        "\n",
        "# accuracy\n",
        "correct_predictions = tf.equal(predictions, tf.cast(batch_labels, tf.int64))\n",
        "accuracy_op = tf.reduce_mean(tf.to_float(correct_predictions))\n",
        "\n",
        "log_loss = tf.nn.softmax_cross_entropy_with_logits_v2(labels=tf.one_hot(batch_labels, 2), logits=logits)\n",
        "cost = tf.reduce_mean(log_loss)"
      ],
      "execution_count": 15,
      "outputs": [
        {
          "output_type": "stream",
          "text": [
            "Tensor(\"rnn/transpose_1:0\", shape=(?, ?, 256), dtype=float32)\n"
          ],
          "name": "stdout"
        }
      ]
    },
    {
      "metadata": {
        "id": "271QYXB1lMx_",
        "colab_type": "code",
        "colab": {
          "base_uri": "https://localhost:8080/",
          "height": 17
        },
        "outputId": "1983d2e8-6259-411a-c9c5-955ac9e701b0"
      },
      "cell_type": "code",
      "source": [
        "optimizer = tf.train.AdamOptimizer(learning_rate=0.0006)\n",
        "\n",
        "model_vars = tf.trainable_variables()\n",
        "gradients = tf.gradients(cost, model_vars)\n",
        "#gradients, _ = tf.clip_by_global_norm(gradients, 5.) # gradient clipping\n",
        "\n",
        "minimize = optimizer.apply_gradients(zip(gradients, model_vars))"
      ],
      "execution_count": 16,
      "outputs": []
    },
    {
      "metadata": {
        "id": "B_nn2eiJlMyC",
        "colab_type": "code",
        "colab": {
          "base_uri": "https://localhost:8080/",
          "height": 17
        },
        "outputId": "f36bb7c0-52b5-4225-c0a3-b294559c37c4"
      },
      "cell_type": "code",
      "source": [
        "training_loss = []\n",
        "training_acc = []\n",
        "\n",
        "train_batch_size = 32\n",
        "test_batch_size = 1\n",
        "\n",
        "with tf.Session() as sess:\n",
        "    \n",
        "    sess.run(tf.global_variables_initializer())\n",
        "    \n",
        "    counter = 0\n",
        "    for i in range(400):\n",
        "        counter += 1\n",
        "\n",
        "        for X_batch, y_batch in next_batch(bucketing_dataset, bucketing_labels, \n",
        "                                           batch_size=train_batch_size, \n",
        "                                           max_seq_len=max_sequence_length):\n",
        "\n",
        "            _, train_acc, train_loss = sess.run([minimize, accuracy_op, cost], \n",
        "                                                feed_dict={batch_samples: X_batch,\n",
        "                                                           batch_labels: y_batch,\n",
        "                                                           batch_size: len(X_batch)})\n",
        "            training_loss.append(train_loss)\n",
        "            training_acc.append(train_acc)\n",
        "\n",
        "    validation_acc = []\n",
        "    validation_loss = []\n",
        "\n",
        "    for X_batch, y_batch in zip(testing_data, testing_labels):\n",
        "        X_batch = np.reshape(X_batch, (1,len(X_batch),1))\n",
        "        y_batch = np.array([y_batch])\n",
        "\n",
        "        val_acc, val_cost = sess.run([accuracy_op, cost], feed_dict={batch_samples: X_batch,\n",
        "                                                                     batch_labels: y_batch,\n",
        "                                                                     batch_size: len(X_batch)})\n",
        "        validation_loss.append(val_cost)\n",
        "        validation_acc.append(val_acc)"
      ],
      "execution_count": 17,
      "outputs": []
    },
    {
      "metadata": {
        "id": "Xgw8o_tIlMyF",
        "colab_type": "code",
        "colab": {
          "base_uri": "https://localhost:8080/",
          "height": 365
        },
        "outputId": "f053bddc-7c56-4c60-8d5e-6ca7829e70d3"
      },
      "cell_type": "code",
      "source": [
        "plt.plot(training_loss)\n",
        "#plt.plot(validation_loss)"
      ],
      "execution_count": 18,
      "outputs": [
        {
          "output_type": "execute_result",
          "data": {
            "text/plain": [
              "[<matplotlib.lines.Line2D at 0x7f4beb5fb7f0>]"
            ]
          },
          "metadata": {
            "tags": []
          },
          "execution_count": 18
        },
        {
          "output_type": "display_data",
          "data": {
            "image/png": "[encoded data removed]",
            "text/plain": [
              "<matplotlib.figure.Figure at 0x7f4bedff9710>"
            ]
          },
          "metadata": {
            "tags": []
          }
        }
      ]
    },
    {
      "metadata": {
        "id": "f7yDZER4lMyJ",
        "colab_type": "code",
        "colab": {
          "base_uri": "https://localhost:8080/",
          "height": 399
        },
        "outputId": "86494702-2226-44e7-8ccd-b7f9e2ea6378"
      },
      "cell_type": "code",
      "source": [
        "print(\"Train Mean acc:\", np.mean(training_acc))\n",
        "print(\"Test Mean acc:\", np.mean(validation_acc))\n",
        "\n",
        "plt.plot(training_acc)\n",
        "plt.title(\"Training Accuracy\")\n",
        "plt.show()"
      ],
      "execution_count": 22,
      "outputs": [
        {
          "output_type": "stream",
          "text": [
            "Train Mean acc: 0.8466646\n",
            "Test Mean acc: 1.0\n"
          ],
          "name": "stdout"
        },
        {
          "output_type": "display_data",
          "data": {
            "image/png": "[encoded data removed]",
            "text/plain": [
              "<matplotlib.figure.Figure at 0x7f4bfcf32748>"
            ]
          },
          "metadata": {
            "tags": []
          }
        }
      ]
    },
    {
      "metadata": {
        "id": "132I4s1ylMyO",
        "colab_type": "code",
        "colab": {
          "base_uri": "https://localhost:8080/",
          "height": 363
        },
        "outputId": "2fb4fee6-edb4-4587-937d-5a9a45a8941d"
      },
      "cell_type": "code",
      "source": [
        "plt.plot(validation_acc)\n",
        "plt.title(\"Validation accuracy\")\n",
        "plt.show()"
      ],
      "execution_count": 21,
      "outputs": [
        {
          "output_type": "display_data",
          "data": {
            "image/png": "[encoded data removed]",
            "text/plain": [
              "<matplotlib.figure.Figure at 0x7f4beb51cda0>"
            ]
          },
          "metadata": {
            "tags": []
          }
        }
      ]
    },
    {
      "metadata": {
        "id": "U3r5ijS3lMyR",
        "colab_type": "code",
        "colab": {
          "base_uri": "https://localhost:8080/",
          "height": 17
        },
        "outputId": "119f1736-7390-460f-a3e6-30d3eab9ff92"
      },
      "cell_type": "code",
      "source": [
        ""
      ],
      "execution_count": 20,
      "outputs": []
    }
  ]
}